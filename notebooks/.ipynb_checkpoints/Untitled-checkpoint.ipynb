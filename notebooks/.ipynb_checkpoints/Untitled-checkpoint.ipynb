{
 "cells": [
  {
   "cell_type": "code",
   "execution_count": 1,
   "metadata": {},
   "outputs": [],
   "source": [
    "import pickle"
   ]
  },
  {
   "cell_type": "code",
   "execution_count": 5,
   "metadata": {},
   "outputs": [],
   "source": [
    "with open('../trained_models/tf_vect.pickle', 'rb') as pickle_file:\n",
    "    tf_vect = pickle.load(pickle_file)"
   ]
  },
  {
   "cell_type": "code",
   "execution_count": 6,
   "metadata": {},
   "outputs": [
    {
     "data": {
      "text/plain": [
       "sklearn.feature_extraction.text.TfidfVectorizer"
      ]
     },
     "execution_count": 6,
     "metadata": {},
     "output_type": "execute_result"
    }
   ],
   "source": [
    "type(tf_vect)"
   ]
  },
  {
   "cell_type": "code",
   "execution_count": 7,
   "metadata": {},
   "outputs": [],
   "source": [
    "title = \\\n",
    "\"Koopman Operator and its Approximations for Systems with Symmetries\""
   ]
  },
  {
   "cell_type": "code",
   "execution_count": 8,
   "metadata": {},
   "outputs": [],
   "source": [
    "abstract =  \\\n",
    "\"Nonlinear dynamical systems with symmetries exhibit a rich variety of behaviors, including complex attractor-basin portraits and enhanced and suppressed bifurcations. Symmetry arguments provide a way to study these collective behaviors and to simplify their analysis. The Koopman operator is an infinite dimensional linear operator that fully captures a system's nonlinear dynamics through the linear evolution of functions of the state space. Importantly, in contrast with local linearization, it preserves a system's global nonlinear features. We demonstrate how the presence of symmetries affects the Koopman operator structure and its spectral properties. In fact, we show that symmetry considerations can also simplify finding the Koopman operator approximations using the extended and kernel dynamic mode decomposition methods (EDMD and kernel DMD). Specifically, representation theory allows us to demonstrate that an isotypic component basis induces block diagonal structure in operator approximations, revealing hidden organization. Practically, if the data is symmetric, the EDMD and kernel DMD methods can be modified to give more efficient computation of the Koopman operator approximation and its eigenvalues, eigenfunctions, and eigenmodes. Rounding out the development, we discuss the effect of measurement noise. \""
   ]
  },
  {
   "cell_type": "code",
   "execution_count": 9,
   "metadata": {},
   "outputs": [
    {
     "data": {
      "text/plain": [
       "<1x173256 sparse matrix of type '<class 'numpy.float64'>'\n",
       "\twith 91 stored elements in Compressed Sparse Row format>"
      ]
     },
     "execution_count": 9,
     "metadata": {},
     "output_type": "execute_result"
    }
   ],
   "source": [
    "tf_vect.transform([title + ' ' + abstract])"
   ]
  },
  {
   "cell_type": "code",
   "execution_count": 10,
   "metadata": {},
   "outputs": [],
   "source": [
    "from scipy.sparse import load_npz"
   ]
  },
  {
   "cell_type": "code",
   "execution_count": 11,
   "metadata": {},
   "outputs": [],
   "source": [
    "tfidf = load_npz('../trained_models/tfidf.npz')"
   ]
  },
  {
   "cell_type": "code",
   "execution_count": 12,
   "metadata": {},
   "outputs": [],
   "source": [
    "from sklearn.metrics.pairwise import linear_kernel"
   ]
  },
  {
   "cell_type": "code",
   "execution_count": 13,
   "metadata": {},
   "outputs": [],
   "source": [
    "cosine_similarities = linear_kernel(tf_vect.transform([title + ' ' + abstract]), tfidf).flatten()"
   ]
  },
  {
   "cell_type": "code",
   "execution_count": 14,
   "metadata": {},
   "outputs": [
    {
     "data": {
      "text/plain": [
       "array([164789,  73092, 359935, 162758, 279615, 285898, 165545, 361748,\n",
       "        86959,  82735])"
      ]
     },
     "execution_count": 14,
     "metadata": {},
     "output_type": "execute_result"
    }
   ],
   "source": [
    "related_docs_indices = cosine_similarities.argsort()[:-11:-1]\n",
    "related_docs_indices"
   ]
  },
  {
   "cell_type": "code",
   "execution_count": 15,
   "metadata": {},
   "outputs": [],
   "source": [
    "import pandas as pd"
   ]
  },
  {
   "cell_type": "code",
   "execution_count": 16,
   "metadata": {},
   "outputs": [],
   "source": [
    "df = pd.read_csv('../data/arxiv_math.csv')"
   ]
  },
  {
   "cell_type": "code",
   "execution_count": 20,
   "metadata": {},
   "outputs": [
    {
     "name": "stdout",
     "output_type": "stream",
     "text": [
      "Koopman Operator and its Approximations for Systems with Symmetries Nonlinear dynamical systems with symmetries exhibit a rich variety of behaviors, including complex attractor-basin portraits and enhanced and suppressed bifurcations. Symmetry arguments provide a way to study these collective behaviors and to simplify their analysis. The Koopman operator is an infinite dimensional linear operator that fully captures a system's nonlinear dynamics through the linear evolution of functions of the state space. Importantly, in contrast with local linearization, it preserves a system's global nonlinear features. We demonstrate how the presence of symmetries affects the Koopman operator structure and its spectral properties. In fact, we show that symmetry considerations can also simplify finding the Koopman operator approximations using the extended and kernel dynamic mode decomposition methods (EDMD and kernel DMD). Specifically, representation theory allows us to demonstrate that an isotypic component basis induces block diagonal structure in operator approximations, revealing hidden organization. Practically, if the data is symmetric, the EDMD and kernel DMD methods can be modified to give more efficient computation of the Koopman operator approximation and its eigenvalues, eigenfunctions, and eigenmodes. Rounding out the development, we discuss the effect of measurement noise. \n"
     ]
    }
   ],
   "source": [
    "print(title + ' ' + abstract)"
   ]
  },
  {
   "cell_type": "code",
   "execution_count": 29,
   "metadata": {},
   "outputs": [
    {
     "data": {
      "text/plain": [
       "\"['math.LO', 'math.GN']\""
      ]
     },
     "execution_count": 29,
     "metadata": {},
     "output_type": "execute_result"
    }
   ],
   "source": [
    "df.loc[237408, 'categories']"
   ]
  },
  {
   "cell_type": "code",
   "execution_count": 25,
   "metadata": {},
   "outputs": [
    {
     "name": "stdout",
     "output_type": "stream",
     "text": [
      "Title:  Koopman invariant subspaces and finite linear representations of\n",
      "  nonlinear dynamical systems for control\n",
      "Categories:  ['math.DS']\n",
      "Abstract:  In this work, we explore finite-dimensional linear representations of\n",
      "nonlinear dynamical systems by restricting the Koopman operator to an invariant\n",
      "subspace. The Koopman operator is an infinite-dimensional linear operator that\n",
      "evolves observable functions of the state-space of a dynamical system [Koopman\n",
      "1931, PNAS]. Dominant terms in the Koopman expansion are typically computed\n",
      "using dynamic mode decomposition (DMD). DMD uses linear measurements of the\n",
      "state variables, and it has recently been shown that this may be too\n",
      "restrictive for nonlinear systems [Williams et al. 2015, JNLS]. Choosing\n",
      "nonlinear observable functions to form an invariant subspace where it is\n",
      "possible to obtain linear models, especially those that are useful for control,\n",
      "is an open challenge.\n",
      "  Here, we investigate the choice of observable functions for Koopman analysis\n",
      "that enable the use of optimal linear control techniques on nonlinear problems.\n",
      "First, to include a cost on the state of the system, as in linear quadratic\n",
      "regulator (LQR) control, it is helpful to include these states in the\n",
      "observable subspace, as in DMD. However, we find that this is only possible\n",
      "when there is a single isolated fixed point, as systems with multiple fixed\n",
      "points or more complicated attractors are not globally topologically conjugate\n",
      "to a finite-dimensional linear system, and cannot be represented by a\n",
      "finite-dimensional linear Koopman subspace that includes the state. We then\n",
      "present a data-driven strategy to identify relevant observable functions for\n",
      "Koopman analysis using a new algorithm to determine terms in a dynamical system\n",
      "by sparse regression of the data in a nonlinear function space [Brunton et al.\n",
      "2015, arxiv]; we show how this algorithm is related to DMD. Finally, we\n",
      "demonstrate how to design optimal control laws for nonlinear systems using\n",
      "techniques from linear optimal control on Koopman invariant subspaces.\n",
      "URL:  https://arxiv.org/abs/1510.03007\n"
     ]
    }
   ],
   "source": [
    "i = 4\n",
    "print('Title: ', df.loc[related_docs_indices[i], 'title'])\n",
    "print('Categories: ', df.loc[related_docs_indices[i], 'categories'])\n",
    "print('Abstract: ', df.loc[related_docs_indices[i], 'abstract'])\n",
    "print('URL: ', 'https://arxiv.org/abs/' + df.loc[related_docs_indices[i], 'id'])"
   ]
  },
  {
   "cell_type": "code",
   "execution_count": null,
   "metadata": {},
   "outputs": [],
   "source": []
  }
 ],
 "metadata": {
  "kernelspec": {
   "display_name": "Python 3",
   "language": "python",
   "name": "python3"
  },
  "language_info": {
   "codemirror_mode": {
    "name": "ipython",
    "version": 3
   },
   "file_extension": ".py",
   "mimetype": "text/x-python",
   "name": "python",
   "nbconvert_exporter": "python",
   "pygments_lexer": "ipython3",
   "version": "3.6.8"
  }
 },
 "nbformat": 4,
 "nbformat_minor": 2
}
