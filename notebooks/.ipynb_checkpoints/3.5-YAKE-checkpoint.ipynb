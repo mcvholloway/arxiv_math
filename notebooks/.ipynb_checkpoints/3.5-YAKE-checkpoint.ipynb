{
 "cells": [
  {
   "cell_type": "code",
   "execution_count": 24,
   "metadata": {},
   "outputs": [],
   "source": [
    "import yake\n",
    "import pandas as pd"
   ]
  },
  {
   "cell_type": "code",
   "execution_count": 25,
   "metadata": {},
   "outputs": [],
   "source": [
    "articles = pd.read_csv('../data/arxiv_math.csv')"
   ]
  },
  {
   "cell_type": "code",
   "execution_count": 26,
   "metadata": {},
   "outputs": [],
   "source": [
    "articles['title_and_abstract'] = articles.title + '. ' + articles.abstract"
   ]
  },
  {
   "cell_type": "code",
   "execution_count": 29,
   "metadata": {},
   "outputs": [],
   "source": [
    "from tqdm._tqdm_notebook import tqdm_notebook\n",
    "tqdm_notebook.pandas()"
   ]
  },
  {
   "cell_type": "code",
   "execution_count": 37,
   "metadata": {},
   "outputs": [],
   "source": [
    "simple_kwextractor = yake.KeywordExtractor(top = 40)"
   ]
  },
  {
   "cell_type": "code",
   "execution_count": 40,
   "metadata": {},
   "outputs": [],
   "source": [
    "def get_yake_tags(row):\n",
    "    return [kw[0] for kw in simple_kwextractor.extract_keywords(row.title_and_abstract)]"
   ]
  },
  {
   "cell_type": "code",
   "execution_count": 41,
   "metadata": {},
   "outputs": [
    {
     "data": {
      "application/vnd.jupyter.widget-view+json": {
       "model_id": "e3562fd884644ebfa9a222bb789a0aac",
       "version_major": 2,
       "version_minor": 0
      },
      "text/plain": [
       "HBox(children=(IntProgress(value=0, max=101), HTML(value='')))"
      ]
     },
     "metadata": {},
     "output_type": "display_data"
    },
    {
     "data": {
      "text/plain": [
       "0      [stirling cycle numbers, cycle numbers counts,...\n",
       "1      [partial cubes, partial, cubes, finite partial...\n",
       "2      [integral fourier coefficients, fourier coeffi...\n",
       "3      [contact process based, obner basis, extinctio...\n",
       "4      [lie group, stochastic lie group, lie group in...\n",
       "5      [placeholder substructures, made of box-kites,...\n",
       "6      [smooth fano polytopes, smooth fano, fano, fan...\n",
       "7      [generalized cosine transforms, intersection b...\n",
       "8      [petojevic, left factorial function, generaliz...\n",
       "9      [nonlinear pdes, pdes, method, nonlinear, mapl...\n",
       "10     [injective morita contexts, morita contexts, m...\n",
       "11     [unitary commutation relations, nonselfadjoint...\n",
       "12     [relativistic symmetries, deformations of rela...\n",
       "13     [dirichlet problem, approximate solutions, hyp...\n",
       "14     [operator algebras, conformal field theory, fi...\n",
       "15     [non-negative concave functions, non-negative ...\n",
       "16     [tameness, duality, local cohomology, duality ...\n",
       "17     [geometric realization, naturally defined alge...\n",
       "18     [equivariant embedding, cla, compact lie group...\n",
       "19     [twisted chern character, chern character comi...\n",
       "20     [placeholder substructures iii, substructures ...\n",
       "21     [bounded k-codimensions, smooth maps, maps wit...\n",
       "22     [quotient aubry set, quotient aubry, aubry set...\n",
       "23     [morse singularities, morse type, morse, folia...\n",
       "24     [semisimple lie algebras, semisimple lie, comp...\n",
       "25     [modular categories, nilpotent modular categor...\n",
       "26     [simple object types, non-braided fusion categ...\n",
       "27     [minimum semi-degree, minimum, sufficiently la...\n",
       "28     [weighted projective spaces, abelian symplecti...\n",
       "29     [polyharmonic functions, polyharmonic function...\n",
       "                             ...                        \n",
       "71     [cauchy integral defined, uniqueness theorems,...\n",
       "72     [moduli, moduli map, number of moduli, irreduc...\n",
       "73     [time scales, calculus of variations, optimali...\n",
       "74     [spaces of cusp, cusp forms, goo, ghat, unitar...\n",
       "75     [free entropy dimension, topological free entr...\n",
       "76     [weak coupling limit, extended weak coupling, ...\n",
       "77     [fixed singular point, finite branch solutions...\n",
       "78     [generalization of chebyshev, chebyshev polyno...\n",
       "79     [periodic boundary conditions, micropolar flui...\n",
       "80     [periodic oscillation, adiabatic piston, pisto...\n",
       "81     [entropic measure, random probability measure,...\n",
       "82     [electrical impedance tomography, shape optimi...\n",
       "83     [lohner type algorithm, lohner algorithm, lohn...\n",
       "84     [adic multiresolution analysis, adic haar mult...\n",
       "85     [likelihood ratio tests, likelihood ratio, com...\n",
       "86     [higher-order differential operations, note on...\n",
       "87     [combinatorial aspects, differential operation...\n",
       "88     [unbounded convex domains, unbounded convex, h...\n",
       "89     [finding the k-th, k-th power, maple for findi...\n",
       "90     [euler equations, onsager conjecture, euler, e...\n",
       "91     [finite volume scheme, finite volume, volume s...\n",
       "92     [finite volume scheme, finite volume, volume s...\n",
       "93     [finite volume scheme, finite volume, volume s...\n",
       "94     [infty, paper, authors and bruner, nonimmersio...\n",
       "95     [homogeneous differential operators, fundament...\n",
       "96     [bose-einstein condensates, dynamics of bose-e...\n",
       "97     [erasure channel, random linear coding, random...\n",
       "98     [universal source coding, source coding, unive...\n",
       "99     [rational tropical curves, rational tropical, ...\n",
       "100    [q-skew polynomial rings, tau, parity in q-ske...\n",
       "Length: 101, dtype: object"
      ]
     },
     "execution_count": 41,
     "metadata": {},
     "output_type": "execute_result"
    }
   ],
   "source": [
    "articles['yake_tags'] = articles.progress_apply(get_yake_tags, axis = 1)"
   ]
  },
  {
   "cell_type": "code",
   "execution_count": 3,
   "metadata": {},
   "outputs": [],
   "source": [
    "text_content = \"\"\"\n",
    "Global weak solutions for quantum isothermal fluids\n",
    "We construct global weak solutions to isothermal quantum Navier-Stokes equations, with or without Korteweg term, in the whole space of dimension at most three. Instead of working on the initial set of unknown functions, we consider an equivalent reformulation, based on a time-dependent rescaling, that we introduced in a previous paper to study the large time behavior, and which provides suitable a priori estimates, as opposed to the initial formulation where the potential energy is not signed. We proceed by working on tori whose size eventually becomes infinite. On each fixed torus, we consider the equations in the presence of drag force terms. Such equations are solved by regularization, and the limit where the drag force terms vanish is treated by resuming the notion of renormalized solution developed by I. Lacroix-Violet and A. Vasseur. We also establish global existence of weak solutions for the isothermal Korteweg equation (no viscosity), when initial data are well-prepared, in the sense that they stem from a Madelung transform. \n",
    "\"\"\""
   ]
  },
  {
   "cell_type": "code",
   "execution_count": 23,
   "metadata": {},
   "outputs": [
    {
     "data": {
      "text/plain": [
       "[('global weak solutions', 0.010341483455255977),\n",
       " ('quantum isothermal fluids', 0.011387233099561316),\n",
       " ('weak solutions', 0.02394328927772613),\n",
       " ('construct global weak', 0.028167141876257802),\n",
       " ('global weak', 0.028765939797095675),\n",
       " ('isothermal quantum navier-stokes', 0.035798833355860246),\n",
       " ('isothermal fluids', 0.0432570723225856),\n",
       " ('isothermal korteweg equation', 0.045843497074705995),\n",
       " ('quantum navier-stokes equations', 0.06136036959460744),\n",
       " ('drag force terms', 0.0690609752032816),\n",
       " ('weak', 0.07063801035465149),\n",
       " ('quantum isothermal', 0.07195422463139951),\n",
       " ('isothermal quantum', 0.07195422463139951),\n",
       " ('isothermal korteweg', 0.08537656427888349),\n",
       " ('global', 0.08557248169623537),\n",
       " ('isothermal', 0.09304318600278905),\n",
       " ('solutions', 0.10541398825050285),\n",
       " ('force terms', 0.1079313888718691),\n",
       " ('quantum navier-stokes', 0.11018087931409111),\n",
       " ('construct global', 0.11850344297465687),\n",
       " ('quantum', 0.1202386894280094),\n",
       " ('drag force', 0.12447806731193463),\n",
       " ('korteweg term', 0.131761963952545),\n",
       " ('korteweg equation', 0.13960428713487993),\n",
       " ('korteweg', 0.14090370422482815),\n",
       " ('initial', 0.14407271667615384),\n",
       " ('equations', 0.14490087904111146),\n",
       " ('fluids', 0.1485456564232211),\n",
       " ('establish global', 0.1924774400023357),\n",
       " ('global existence', 0.1924774400023357),\n",
       " ('working', 0.19855776695010624),\n",
       " ('space of dimension', 0.20529016015904497),\n",
       " ('terms', 0.20656301482176628),\n",
       " ('force terms vanish', 0.2071981160763145),\n",
       " ('establish global existence', 0.2093210399065304),\n",
       " ('force', 0.2148724042054971),\n",
       " ('navier-stokes equations', 0.21862548892800646),\n",
       " ('drag', 0.2319182964963607),\n",
       " ('large time behavior', 0.23542722212745495),\n",
       " ('renormalized solution', 0.23981960851758202)]"
      ]
     },
     "execution_count": 23,
     "metadata": {},
     "output_type": "execute_result"
    }
   ],
   "source": [
    "keywords"
   ]
  },
  {
   "cell_type": "code",
   "execution_count": 22,
   "metadata": {},
   "outputs": [
    {
     "name": "stdout",
     "output_type": "stream",
     "text": [
      "['global weak solutions', 'quantum isothermal fluids', 'weak solutions', 'construct global weak', 'global weak', 'isothermal quantum navier-stokes', 'isothermal fluids', 'isothermal korteweg equation', 'quantum navier-stokes equations', 'drag force terms', 'weak', 'quantum isothermal', 'isothermal quantum', 'isothermal korteweg', 'global', 'isothermal', 'solutions', 'force terms', 'quantum navier-stokes', 'construct global', 'quantum', 'drag force', 'korteweg term', 'korteweg equation', 'korteweg', 'initial', 'equations', 'fluids', 'establish global', 'global existence', 'working', 'space of dimension', 'terms', 'force terms vanish', 'establish global existence', 'force', 'navier-stokes equations', 'drag', 'large time behavior', 'renormalized solution']\n"
     ]
    }
   ],
   "source": [
    "print([kw[0] for kw in keywords])"
   ]
  },
  {
   "cell_type": "code",
   "execution_count": null,
   "metadata": {},
   "outputs": [],
   "source": [
    "def important_features(vectorizer,classifier,n=20):\n",
    "    class_labels = classifier.classes_\n",
    "    feature_names =vectorizer.get_feature_names()\n",
    "    topn_class1 = sorted(zip(classifier.feature_count_[0], feature_names),reverse=True)[:n]\n",
    "    topn_class2 = sorted(zip(classifier.feature_count_[1], feature_names),reverse=True)[:n]\n",
    "    print(\"Important words in negative reviews\")\n",
    "    for coef, feat in topn_class1:\n",
    "        print(class_labels[0], coef, feat)\n",
    "    print(\"-----------------------------------------\")\n",
    "    print(\"Important words in positive reviews\")\n",
    "    for coef, feat in topn_class2:\n",
    "        print(class_labels[1], coef, feat) "
   ]
  },
  {
   "cell_type": "code",
   "execution_count": null,
   "metadata": {},
   "outputs": [],
   "source": [
    "def important_features(vectorizer,clf,n):\n",
    "    \n",
    "    class_labels = clf.classes_\n",
    "    feature_names =vectorizer.get_feature_names()\n",
    "    topn_class1 = sorted(zip(mnb.feature_count_[2], feature_names),reverse=True)[:n]\n",
    "    topn_class2 = sorted(zip(mnb.feature_count_[1], feature_names),reverse=True)[:n]\n",
    "    topn_class3 = sorted(zip(mnb.feature_count_[0], feature_names),reverse=True)[:n]\n",
    "    print(\"Important words in positive reviews\")\n",
    "    for coef, feat in topn_class1:\n",
    "        print(class_labels[2], coef, feat)\n",
    "    print(\"-----------------------------------------\")\n",
    "    print(\"Important words in neutral reviews\")\n",
    "    for coef, feat in topn_class2:\n",
    "        print(class_labels[1], coef, feat) \n",
    "    print(\"-----------------------------------------\")\n",
    "    print(\"Important words in negative reviews\")\n",
    "    for coef, feat in topn_class3:\n",
    "        print(class_labels[0], coef, feat)\n"
   ]
  }
 ],
 "metadata": {
  "kernelspec": {
   "display_name": "Python 3",
   "language": "python",
   "name": "python3"
  },
  "language_info": {
   "codemirror_mode": {
    "name": "ipython",
    "version": 3
   },
   "file_extension": ".py",
   "mimetype": "text/x-python",
   "name": "python",
   "nbconvert_exporter": "python",
   "pygments_lexer": "ipython3",
   "version": "3.6.8"
  }
 },
 "nbformat": 4,
 "nbformat_minor": 2
}
