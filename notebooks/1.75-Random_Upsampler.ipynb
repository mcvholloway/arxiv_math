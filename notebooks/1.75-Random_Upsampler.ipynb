{
 "cells": [
  {
   "cell_type": "code",
   "execution_count": 7,
   "metadata": {},
   "outputs": [],
   "source": [
    "import pandas as pd\n",
    "from sklearn.preprocessing import MultiLabelBinarizer"
   ]
  },
  {
   "cell_type": "code",
   "execution_count": 2,
   "metadata": {},
   "outputs": [],
   "source": [
    "def IRLbl(dataset, label, labelset):\n",
    "    ''' calculates the imbalance ratio per label\n",
    "    needs dataset with dummy columns '''\n",
    "    num = max(dataset.loc[:,labelset].sum())\n",
    "    denom = dataset.loc[:,label].sum()\n",
    "    return num/denom"
   ]
  },
  {
   "cell_type": "code",
   "execution_count": 3,
   "metadata": {},
   "outputs": [],
   "source": [
    "def MeanIR(dataset, labelset):\n",
    "    ''' calculates the mean imbalance ratio'''\n",
    "    import numpy as np\n",
    "    return np.mean([IRLbl(dataset, label, labelset) for label in labelset])"
   ]
  },
  {
   "cell_type": "code",
   "execution_count": 19,
   "metadata": {},
   "outputs": [],
   "source": [
    "def MLROS(dataset, labels, percentage, batch_size = 100):\n",
    "    from numpy import random\n",
    "    starting_size = len(dataset)\n",
    "    samplesToClone = int(len(dataset) * percentage / 100)\n",
    "    mir = MeanIR(dataset, labels)\n",
    "    cloners = [label for label in labels if IRLbl(dataset, label, labels) > mir]\n",
    "    clone_sets = [dataset.loc[dataset[label] == 1].reset_index(drop = True) for label in cloners]\n",
    "    clone_set_lengths = [len(x) for x in clone_sets]\n",
    "    \n",
    "    \n",
    "    cloneCount = 0\n",
    "    \n",
    "    while(cloneCount < samplesToClone and len(cloners) > 0):\n",
    "        clones = pd.DataFrame()\n",
    "        for i,label in enumerate(cloners):\n",
    "            clones = clones.append(clone_sets[i].loc[random.choice(range(clone_set_lengths[i]), batch_size, replace = True)])\n",
    "        cloneCount += batch_size * len(cloners)\n",
    "        print(str(cloneCount) + '/' + str(samplesToClone))\n",
    "        \n",
    "        dataset = dataset.append(clones, ignore_index = True)\n",
    "                    \n",
    "        for label in cloners:\n",
    "            if IRLbl(dataset, label, labels) <= mir:\n",
    "                idx = cloners.index(label)\n",
    "                cloners = cloners[:idx] + cloners[idx+1:]\n",
    "                clone_sets = clone_sets[:idx] + clone_sets[idx+1:]\n",
    "                clone_set_lengths = clone_set_lengths[:idx] + clone_set_lengths[idx+1:]\n",
    "        \n",
    "    return dataset"
   ]
  },
  {
   "cell_type": "code",
   "execution_count": 9,
   "metadata": {},
   "outputs": [],
   "source": [
    "articles = pd.read_csv('../data/arxiv_math.csv')"
   ]
  },
  {
   "cell_type": "code",
   "execution_count": 8,
   "metadata": {},
   "outputs": [],
   "source": [
    "def get_math_categories(categories):\n",
    "    import ast\n",
    "    return [x[5:] for x in ast.literal_eval(categories) if x[:5] == 'math.']"
   ]
  },
  {
   "cell_type": "code",
   "execution_count": 10,
   "metadata": {},
   "outputs": [],
   "source": [
    "articles['math_categories'] = articles.categories.apply(get_math_categories)"
   ]
  },
  {
   "cell_type": "code",
   "execution_count": 11,
   "metadata": {},
   "outputs": [],
   "source": [
    "mlb = MultiLabelBinarizer()"
   ]
  },
  {
   "cell_type": "code",
   "execution_count": 12,
   "metadata": {},
   "outputs": [],
   "source": [
    "articles = pd.concat([articles,pd.DataFrame(mlb.fit_transform(articles.math_categories),columns=mlb.classes_, index=articles.index)], axis = 1)"
   ]
  },
  {
   "cell_type": "code",
   "execution_count": 13,
   "metadata": {},
   "outputs": [
    {
     "data": {
      "text/plain": [
       "13.635794743429287"
      ]
     },
     "execution_count": 13,
     "metadata": {},
     "output_type": "execute_result"
    }
   ],
   "source": [
    "IRLbl(articles, 'KT', mlb.classes_)"
   ]
  },
  {
   "cell_type": "code",
   "execution_count": 14,
   "metadata": {},
   "outputs": [
    {
     "data": {
      "text/plain": [
       "1.5697037805440295"
      ]
     },
     "execution_count": 14,
     "metadata": {},
     "output_type": "execute_result"
    }
   ],
   "source": [
    "IRLbl(articles, 'AG', mlb.classes_)"
   ]
  },
  {
   "cell_type": "code",
   "execution_count": 15,
   "metadata": {},
   "outputs": [
    {
     "data": {
      "text/plain": [
       "6.282509649885996"
      ]
     },
     "execution_count": 15,
     "metadata": {},
     "output_type": "execute_result"
    }
   ],
   "source": [
    "MeanIR(articles, mlb.classes_)"
   ]
  },
  {
   "cell_type": "code",
   "execution_count": 20,
   "metadata": {},
   "outputs": [
    {
     "name": "stdout",
     "output_type": "stream",
     "text": [
      "1000/96111\n",
      "2000/96111\n",
      "3000/96111\n",
      "4000/96111\n",
      "4900/96111\n",
      "5800/96111\n",
      "6700/96111\n",
      "7600/96111\n",
      "8500/96111\n",
      "9300/96111\n",
      "10100/96111\n",
      "10900/96111\n",
      "11700/96111\n",
      "12500/96111\n",
      "13300/96111\n",
      "14100/96111\n",
      "14900/96111\n",
      "15700/96111\n",
      "16500/96111\n",
      "17300/96111\n",
      "18100/96111\n",
      "18900/96111\n",
      "19600/96111\n",
      "20300/96111\n",
      "21000/96111\n",
      "21700/96111\n",
      "22400/96111\n",
      "23000/96111\n",
      "23500/96111\n",
      "24000/96111\n",
      "24500/96111\n",
      "25000/96111\n",
      "25500/96111\n",
      "26000/96111\n",
      "26500/96111\n",
      "27000/96111\n",
      "27500/96111\n",
      "28000/96111\n",
      "28400/96111\n",
      "28800/96111\n",
      "29200/96111\n",
      "29600/96111\n",
      "30000/96111\n",
      "30400/96111\n",
      "30800/96111\n",
      "31200/96111\n",
      "31600/96111\n",
      "31900/96111\n",
      "32200/96111\n",
      "32500/96111\n",
      "32800/96111\n",
      "33100/96111\n",
      "33400/96111\n",
      "33700/96111\n",
      "34000/96111\n",
      "34300/96111\n",
      "34600/96111\n",
      "34800/96111\n",
      "35000/96111\n",
      "35200/96111\n",
      "35400/96111\n",
      "35600/96111\n",
      "35800/96111\n",
      "36000/96111\n",
      "36200/96111\n",
      "36400/96111\n",
      "36500/96111\n",
      "36600/96111\n"
     ]
    }
   ],
   "source": [
    "clones = MLROS(articles, mlb.classes_, 25)"
   ]
  },
  {
   "cell_type": "code",
   "execution_count": null,
   "metadata": {},
   "outputs": [],
   "source": []
  }
 ],
 "metadata": {
  "kernelspec": {
   "display_name": "Python 3",
   "language": "python",
   "name": "python3"
  },
  "language_info": {
   "codemirror_mode": {
    "name": "ipython",
    "version": 3
   },
   "file_extension": ".py",
   "mimetype": "text/x-python",
   "name": "python",
   "nbconvert_exporter": "python",
   "pygments_lexer": "ipython3",
   "version": "3.6.8"
  }
 },
 "nbformat": 4,
 "nbformat_minor": 2
}
