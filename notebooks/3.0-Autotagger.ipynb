{
 "cells": [
  {
   "cell_type": "code",
   "execution_count": 18,
   "metadata": {},
   "outputs": [],
   "source": [
    "import spacy\n",
    "import pandas as pd\n",
    "import re"
   ]
  },
  {
   "cell_type": "code",
   "execution_count": 19,
   "metadata": {},
   "outputs": [],
   "source": [
    "from nltk.stem import WordNetLemmatizer\n",
    "\n",
    "lemmatizer = WordNetLemmatizer()"
   ]
  },
  {
   "cell_type": "code",
   "execution_count": 20,
   "metadata": {},
   "outputs": [],
   "source": [
    "nlp = spacy.load('en_core_web_sm')"
   ]
  },
  {
   "cell_type": "markdown",
   "metadata": {},
   "source": [
    "## This notebook will walk through the steps of how the tagger generates tags."
   ]
  },
  {
   "cell_type": "markdown",
   "metadata": {},
   "source": [
    "#### Start with an example title and abstract:"
   ]
  },
  {
   "cell_type": "code",
   "execution_count": 7,
   "metadata": {},
   "outputs": [],
   "source": [
    "title = \"\"\"\n",
    "On the homotopy hypothesis in dimension 3\n",
    "\"\"\"\n",
    "\n",
    "abstract = \"\"\"\n",
    "We show that if the canonical left semi-model structure on the category of Grothendieck n-groupoids exists, then it satisfies the homotopy hypothesis, i.e. the associated (∞,1)-category is equivalent to that of homotopy n-types, thus generalizing a result of the first named author. As a corollary of the second named author's proof of the existence of the canonical left semi-model structure for Grothendieck 3-groupoids, we obtain a proof of the homotopy hypothesis for Grothendieck 3-groupoids. \n",
    "\"\"\"\n",
    "\n",
    "example = title + '. ' + abstract"
   ]
  },
  {
   "cell_type": "code",
   "execution_count": 5,
   "metadata": {},
   "outputs": [],
   "source": [
    "#Preprocessing\n",
    "\n",
    "def preprocess_abstract(abstract):\n",
    "    import re\n",
    "    okay = set(\"ABCDEFGHIJKLMNOPQRSTUVWXYZabcdefghijklmnopqrstuvwxyz0123456789,;.!?:'\\\"/\\\\$()[]{}- \")\n",
    "    abstract = abstract.replace('$K$-theory', 'k-theory').replace('$C^*$-algebra', 'C-algebra').replace('\\\\emph', '').replace('\\\\emph{', '').replace('\\\\texit{', '')\n",
    "    abstract = ' '.join([word for word in abstract.split(' ') if set([c for c in word]).issubset(okay)])\n",
    "    #abstract = ''.join([c for c in abstract if c in okay])\n",
    "    abstract = abstract.replace('\\n', ' ') #remove new line characters\n",
    "    abstract = re.sub(r'\\\\\\S+', '', abstract) #remove anything after a slash\n",
    "    abstract = abstract.replace('ä', 'a').replace('ö', 'o').replace('é', 'e')\n",
    "\n",
    "    abstract = re.sub('\\$.*?\\$', '', abstract)\n",
    "    abstract = abstract.replace('such a', ' ').replace('previously known', ' ').replace('so called', ' ').replace('more general', ' ').replace('all the', ' ').replace('all these', ' ').replace('very challenging', ' ')\n",
    "    abstract = abstract.replace('so-called', ' ').replace('well known', ' ').replace('particularly nice', ' ')\n",
    "    abstract = abstract.replace('\"', '').replace(\"'\", '').replace('`','').replace('\\\\', '').replace('--', '-').replace('^*', '')\n",
    "    abstract = re.sub('\\[.*?\\]', '', abstract)\n",
    "    abstract = re.sub('\\s[a-zA-Z]{1}[\\.\\,\\;]?\\s', '. ', abstract)\n",
    "    abstract = re.sub('\\s[0-9]+\\s', ' ', abstract)\n",
    "    abstract = re.sub('\\(.*?\\)', '', abstract)\n",
    "    abstract = abstract.replace('*', '').replace('{', '').replace('}', '')\n",
    "    abstract = re.sub(' +', ' ', abstract)\n",
    "    return abstract"
   ]
  },
  {
   "cell_type": "code",
   "execution_count": 12,
   "metadata": {},
   "outputs": [
    {
     "name": "stdout",
     "output_type": "stream",
     "text": [
      "preprocessed title and abstract:\n",
      "the homotopy hypothesis in dimension show that if the canonical left semi-model structure on the category of Grothendieck n-groupoids exists, then it satisfies the homotopy hypothesis, i.e. the associated is equivalent to that of homotopy n-types, thus generalizing. result of the first named author. As. corollary of the second named authors proof of the existence of the canonical left semi-model structure for Grothendieck 3-groupoids, we obtain. proof of the homotopy hypothesis for Grothendieck 3-groupoids.\n"
     ]
    }
   ],
   "source": [
    "preprocessed = preprocess_abstract(example)\n",
    "\n",
    "print(\"preprocessed title and abstract:\")\n",
    "\n",
    "print(preprocessed)"
   ]
  },
  {
   "cell_type": "markdown",
   "metadata": {},
   "source": [
    "#### Load in stopwords:"
   ]
  },
  {
   "cell_type": "code",
   "execution_count": 10,
   "metadata": {},
   "outputs": [],
   "source": [
    "from models.stop_words import make_stop_words\n",
    "stop_words = make_stop_words()"
   ]
  },
  {
   "cell_type": "code",
   "execution_count": 14,
   "metadata": {},
   "outputs": [],
   "source": [
    "def remove_stopwords_and_lemmatize(text):\n",
    "    from nltk.tokenize import word_tokenize \n",
    "    return ' '.join([lemmatizer.lemmatize(w) for w in word_tokenize(text) if w.lower() not in stop_words])"
   ]
  },
  {
   "cell_type": "code",
   "execution_count": 21,
   "metadata": {},
   "outputs": [
    {
     "name": "stdout",
     "output_type": "stream",
     "text": [
      "with stopwords and lemmatization:\n",
      "homotopy hypothesis in dimension show if canonical left semi-model structure on category of Grothendieck n-groupoids exists , then it satisfies homotopy hypothesis , i.e . is equivalent to of homotopy n-types , thus generalizing . result of named author . As . corollary of second named author of existence of canonical left semi-model structure for Grothendieck 3-groupoids , we obtain . of homotopy hypothesis for Grothendieck 3-groupoids .\n"
     ]
    }
   ],
   "source": [
    "lemmatized = remove_stopwords_and_lemmatize(preprocessed)\n",
    "\n",
    "print('with stopwords and lemmatization:')\n",
    "\n",
    "print(lemmatized)"
   ]
  },
  {
   "cell_type": "markdown",
   "metadata": {},
   "source": [
    "## Use spacy's noun chunker to generate potential tags"
   ]
  },
  {
   "cell_type": "code",
   "execution_count": 27,
   "metadata": {},
   "outputs": [],
   "source": [
    "from models.stop_words import make_remove_adjectives\n",
    "remove_adjectives = make_remove_adjectives()"
   ]
  },
  {
   "cell_type": "code",
   "execution_count": 28,
   "metadata": {},
   "outputs": [],
   "source": [
    "def shorten_abstract(abstract):\n",
    "    doc = nlp(abstract)\n",
    "    shortened = []\n",
    "    for chunk in doc.noun_chunks:\n",
    "        if ((doc[chunk.start].text in remove_adjectives) or (doc[chunk.start].pos_ in ['PRON', 'DET', 'INTJ', 'AUX', 'CCONJ', 'APD', 'NUM', 'PART', 'SCONJ', 'PUNCT', 'SYM', 'X'])) and (doc[chunk.end - 1].pos_ in ['PRON', 'DET', 'INTJ', 'AUX', 'CCONJ', 'APD', 'NUM', 'PART', 'SCONJ', 'PUNCT', 'SYM', 'X']):\n",
    "            shortened.append('_'.join(chunk.text.split(' ')[1:-1]))\n",
    "\n",
    "        elif ((doc[chunk.start].text in remove_adjectives) or (doc[chunk.start].pos_ in ['PRON', 'DET', 'INTJ', 'AUX', 'CCONJ', 'APD', 'NUM', 'PART', 'SCONJ', 'PUNCT', 'SYM', 'X'])):\n",
    "            shortened.append('_'.join(chunk.text.split(' ')[1:]))\n",
    "\n",
    "        elif (doc[chunk.end - 1].pos_ in ['PRON', 'DET', 'INTJ', 'AUX', 'CCONJ', 'APD', 'NUM', 'PART', 'SCONJ', 'PUNCT', 'SYM', 'X']):\n",
    "            shortened.append('_'.join(chunk.text.split(' ')[:-1]))\n",
    "\n",
    "        else: \n",
    "            shortened.append('_'.join(chunk.text.split(' ')))\n",
    "    return ' '.join(shortened).strip()"
   ]
  },
  {
   "cell_type": "code",
   "execution_count": 29,
   "metadata": {},
   "outputs": [
    {
     "name": "stdout",
     "output_type": "stream",
     "text": [
      "shortened:\n",
      "homotopy hypothesis dimension show semi-model_structure category Grothendieck   hypothesis homotopy  result named_author second_named_author existence canonical_left_semi-model_structure Grothendieck  homotopy hypothesis Grothendieck\n"
     ]
    }
   ],
   "source": [
    "shortened = shorten_abstract(lemmatized)\n",
    "\n",
    "print('shortened:')\n",
    "\n",
    "print(shortened)"
   ]
  },
  {
   "cell_type": "code",
   "execution_count": null,
   "metadata": {},
   "outputs": [],
   "source": []
  },
  {
   "cell_type": "code",
   "execution_count": 31,
   "metadata": {},
   "outputs": [
    {
     "name": "stdout",
     "output_type": "stream",
     "text": [
      "cleaned:\n",
      "homotopy hypothesis dimension show semi-model_structure category Grothendieck   hypothesis homotopy  result named_author second_named_author existence canonical_left_semi-model_structure Grothendieck  homotopy hypothesis Grothendieck\n"
     ]
    }
   ],
   "source": [
    "good_chars = set(\"ABCDEFGHIJKLMNOPQRSTUVWXYZabcdefghijklmnopqrstuvwxyz0123456789 -_\")\n",
    "cleaned = ''.join([c for c in shortened if c in good_chars])\n",
    "print(\"cleaned:\")\n",
    "print(cleaned)"
   ]
  },
  {
   "cell_type": "code",
   "execution_count": 33,
   "metadata": {},
   "outputs": [
    {
     "data": {
      "text/plain": [
       "'homotopy hypothesis dimension show semi-model_structure category Grothendieck   hypothesis homotopy  result named_author second_named_author existence canonical_left_semi-model_structure Grothendieck  homotopy hypothesis Grothendieck'"
      ]
     },
     "execution_count": 33,
     "metadata": {},
     "output_type": "execute_result"
    }
   ],
   "source": [
    "cleaned"
   ]
  },
  {
   "cell_type": "markdown",
   "metadata": {},
   "source": [
    "## Tokenize, using functions borrowed from Jason King"
   ]
  },
  {
   "cell_type": "code",
   "execution_count": 41,
   "metadata": {},
   "outputs": [],
   "source": [
    "def get_ngrams(tokens, n=2):\n",
    "    ngrams = zip(*[tokens[i:] for i in range(n)])\n",
    "    ngrams = [' '.join(ngram) for ngram in ngrams]\n",
    "    return ngrams\n",
    "\n",
    "def tokenize(text, ngram_range=(1,1)):\n",
    "    import re\n",
    "    tokens = re.findall(r'[a-z0-9_\\'-]+', text.lower())\n",
    "    ngrams = []\n",
    "    for n in range(ngram_range[0], ngram_range[1]+1):\n",
    "        ngrams += get_ngrams(tokens, n)\n",
    "    return ngrams"
   ]
  },
  {
   "cell_type": "code",
   "execution_count": 43,
   "metadata": {},
   "outputs": [
    {
     "name": "stdout",
     "output_type": "stream",
     "text": [
      "tokenized: \n",
      "['homotopy', 'hypothesis', 'dimension', 'show', 'semi-model_structure', 'category', 'grothendieck', 'hypothesis', 'homotopy', 'result', 'named_author', 'second_named_author', 'existence', 'canonical_left_semi-model_structure', 'grothendieck', 'homotopy', 'hypothesis', 'grothendieck']\n"
     ]
    }
   ],
   "source": [
    "tokenized = tokenize(cleaned)\n",
    "print(\"tokenized: \")\n",
    "print(tokenized)"
   ]
  },
  {
   "cell_type": "markdown",
   "metadata": {},
   "source": [
    "## Finally, remove duplicates and stop words:"
   ]
  },
  {
   "cell_type": "code",
   "execution_count": 44,
   "metadata": {},
   "outputs": [
    {
     "name": "stdout",
     "output_type": "stream",
     "text": [
      "tags: \n",
      "{'named author', 'category', 'grothendieck', 'homotopy', 'semi-model structure', 'canonical left semi-model structure', 'hypothesis'}\n"
     ]
    }
   ],
   "source": [
    "from models.stop_words import make_stop_words_tags\n",
    "stop_words_tags = make_stop_words_tags()\n",
    "tags = set([x.replace('_', ' ').strip() for x in tokenized if x not in stop_words_tags])\n",
    "print(\"tags: \")\n",
    "print(tags)"
   ]
  },
  {
   "cell_type": "code",
   "execution_count": null,
   "metadata": {},
   "outputs": [],
   "source": []
  },
  {
   "cell_type": "markdown",
   "metadata": {},
   "source": [
    "# The above steps are implemented in the Tagger class"
   ]
  },
  {
   "cell_type": "code",
   "execution_count": 45,
   "metadata": {},
   "outputs": [],
   "source": [
    "from models.tagger import Tagger"
   ]
  },
  {
   "cell_type": "code",
   "execution_count": 46,
   "metadata": {},
   "outputs": [],
   "source": [
    "tagger = Tagger()"
   ]
  },
  {
   "cell_type": "code",
   "execution_count": 47,
   "metadata": {},
   "outputs": [
    {
     "data": {
      "text/plain": [
       "{'canonical left semi-model structure',\n",
       " 'category',\n",
       " 'grothendieck',\n",
       " 'homotopy',\n",
       " 'hypothesis',\n",
       " 'named author',\n",
       " 'semi-model structure'}"
      ]
     },
     "execution_count": 47,
     "metadata": {},
     "output_type": "execute_result"
    }
   ],
   "source": [
    "tagger.generate_tags(example)"
   ]
  },
  {
   "cell_type": "code",
   "execution_count": null,
   "metadata": {},
   "outputs": [],
   "source": []
  },
  {
   "cell_type": "markdown",
   "metadata": {},
   "source": [
    "## Tagging the dataset for search purposes:"
   ]
  },
  {
   "cell_type": "code",
   "execution_count": 3,
   "metadata": {},
   "outputs": [],
   "source": [
    "articles = pd.read_csv('../data/arxiv_math.csv')"
   ]
  },
  {
   "cell_type": "code",
   "execution_count": 5,
   "metadata": {},
   "outputs": [],
   "source": [
    "from tqdm._tqdm_notebook import tqdm_notebook\n",
    "\n",
    "tqdm_notebook.pandas()"
   ]
  },
  {
   "cell_type": "code",
   "execution_count": 32,
   "metadata": {},
   "outputs": [
    {
     "data": {
      "application/vnd.jupyter.widget-view+json": {
       "model_id": "07a1d14e0ca24d52ad454fa3ae599114",
       "version_major": 2,
       "version_minor": 0
      },
      "text/plain": [
       "HBox(children=(IntProgress(value=0, max=384444), HTML(value='')))"
      ]
     },
     "metadata": {},
     "output_type": "display_data"
    },
    {
     "name": "stdout",
     "output_type": "stream",
     "text": [
      "\n"
     ]
    }
   ],
   "source": [
    "articles['tags'] = articles.title_and_abstract.progress_apply(get_tags)"
   ]
  },
  {
   "cell_type": "code",
   "execution_count": 33,
   "metadata": {},
   "outputs": [],
   "source": [
    "articles.to_csv('../data/tagged.csv', index = False)"
   ]
  }
 ],
 "metadata": {
  "kernelspec": {
   "display_name": "Python 3",
   "language": "python",
   "name": "python3"
  },
  "language_info": {
   "codemirror_mode": {
    "name": "ipython",
    "version": 3
   },
   "file_extension": ".py",
   "mimetype": "text/x-python",
   "name": "python",
   "nbconvert_exporter": "python",
   "pygments_lexer": "ipython3",
   "version": "3.6.8"
  }
 },
 "nbformat": 4,
 "nbformat_minor": 2
}
