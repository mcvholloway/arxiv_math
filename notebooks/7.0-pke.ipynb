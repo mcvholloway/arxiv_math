{
 "cells": [
  {
   "cell_type": "code",
   "execution_count": 29,
   "metadata": {},
   "outputs": [],
   "source": [
    "import yake\n",
    "import pandas as pd"
   ]
  },
  {
   "cell_type": "code",
   "execution_count": 30,
   "metadata": {},
   "outputs": [],
   "source": [
    "articles = pd.read_csv('../data/arxiv_math_2007.csv')"
   ]
  },
  {
   "cell_type": "code",
   "execution_count": 14,
   "metadata": {},
   "outputs": [],
   "source": [
    "text_content = \"\"\"\n",
    "For the unitary ensembles of $N\\times N$ Hermitian matrices associated with a\n",
    "weight function $w$ there is a kernel, expressible in terms of the polynomials\n",
    "orthogonal with respect to the weight function, which plays an important role.\n",
    "For the orthogonal and symplectic ensembles of Hermitian matrices there are\n",
    "$2\\times2$ matrix kernels, usually constructed using skew-orthogonal\n",
    "polynomials, which play an analogous role. These matrix kernels are determined\n",
    "by their upper left-hand entries. We derive formulas expressing these entries\n",
    "in terms of the scalar kernel for the corresponding unitary ensembles. We also\n",
    "show that whenever $w'/w$ is a rational function the entries are equal to the\n",
    "scalar kernel plus some extra terms whose number equals the order of $w'/w$.\n",
    "General formulas are obtained for these extra terms. We do not use\n",
    "skew-orthogonal polynomials in the derivations.\n",
    "\"\"\""
   ]
  },
  {
   "cell_type": "code",
   "execution_count": 53,
   "metadata": {},
   "outputs": [
    {
     "name": "stdout",
     "output_type": "stream",
     "text": [
      "Obtaining pytopicrank from git+https://github.com/smirnov-am/pytopicrank.git#egg=pytopicrank\n",
      "  Cloning https://github.com/smirnov-am/pytopicrank.git to ./src/pytopicrank\n",
      "Collecting decorator==4.2.1 (from pytopicrank)\n",
      "  Downloading https://files.pythonhosted.org/packages/e1/5a/53db15bf367d2028bdc6700dbdf1bdfab46b9f208b7516952817c0808118/decorator-4.2.1-py2.py3-none-any.whl\n",
      "Collecting langdetect==1.0.7 (from pytopicrank)\n",
      "\u001b[?25l  Downloading https://files.pythonhosted.org/packages/59/59/4bc44158a767a6d66de18c4136c8aa90491d56cc951c10b74dd1e13213c9/langdetect-1.0.7.zip (998kB)\n",
      "\u001b[K    100% |████████████████████████████████| 1.0MB 2.0MB/s ta 0:00:01\n",
      "\u001b[?25hRequirement already satisfied: networkx==2.1 in /home/michael/anaconda3/lib/python3.6/site-packages (from pytopicrank) (2.1)\n",
      "Collecting nltk==3.2.5 (from pytopicrank)\n",
      "\u001b[?25l  Downloading https://files.pythonhosted.org/packages/cc/87/76e691bbf1759ad6af5831649aae6a8d2fa184a1bcc71018ca6300399e5f/nltk-3.2.5.tar.gz (1.2MB)\n",
      "\u001b[K    100% |████████████████████████████████| 1.2MB 2.4MB/s ta 0:00:01\n",
      "\u001b[?25hCollecting numpy==1.14.1 (from pytopicrank)\n",
      "\u001b[?25l  Downloading https://files.pythonhosted.org/packages/de/7d/348c5d8d44443656e76285aa97b828b6dbd9c10e5b9c0f7f98eff0ff70e4/numpy-1.14.1-cp36-cp36m-manylinux1_x86_64.whl (12.2MB)\n",
      "\u001b[K    100% |████████████████████████████████| 12.2MB 1.3MB/s ta 0:00:01   30% |█████████▉                      | 3.7MB 1.8MB/s eta 0:00:05\n",
      "\u001b[?25hCollecting scikit-learn==0.19.1 (from pytopicrank)\n",
      "\u001b[?25l  Downloading https://files.pythonhosted.org/packages/3d/2d/9fbc7baa5f44bc9e88ffb7ed32721b879bfa416573e85031e16f52569bc9/scikit_learn-0.19.1-cp36-cp36m-manylinux1_x86_64.whl (12.4MB)\n",
      "\u001b[K    100% |████████████████████████████████| 12.4MB 916kB/s ta 0:00:01\n",
      "\u001b[?25hCollecting scipy==1.0.0 (from pytopicrank)\n",
      "\u001b[?25l  Downloading https://files.pythonhosted.org/packages/d8/5e/caa01ba7be11600b6a9d39265440d7b3be3d69206da887c42bef049521f2/scipy-1.0.0-cp36-cp36m-manylinux1_x86_64.whl (50.0MB)\n",
      "\u001b[K    100% |████████████████████████████████| 50.0MB 741kB/s ta 0:00:012  15% |█████                           | 7.7MB 2.8MB/s eta 0:00:16    70% |██████████████████████▌         | 35.2MB 2.3MB/s eta 0:00:07\n",
      "\u001b[?25hRequirement already satisfied: six==1.11.0 in /home/michael/anaconda3/lib/python3.6/site-packages (from pytopicrank) (1.11.0)\n",
      "Building wheels for collected packages: langdetect, nltk\n",
      "  Building wheel for langdetect (setup.py) ... \u001b[?25ldone\n",
      "\u001b[?25h  Stored in directory: /home/michael/.cache/pip/wheels/ec/0c/a9/1647275e7ef5014e7b83ff30105180e332867d65e7617ddafe\n",
      "  Building wheel for nltk (setup.py) ... \u001b[?25ldone\n",
      "\u001b[?25h  Stored in directory: /home/michael/.cache/pip/wheels/da/8c/38/a8a36581975f8d03275c49960019f955e4d19fd14ae7e42d3d\n",
      "Successfully built langdetect nltk\n",
      "\u001b[31mkeras-pandas 3.1.0 has requirement numpy==1.15.2, but you'll have numpy 1.14.1 which is incompatible.\u001b[0m\n",
      "\u001b[31mkeras-pandas 3.1.0 has requirement scikit-learn==0.20.0, but you'll have scikit-learn 0.19.1 which is incompatible.\u001b[0m\n",
      "\u001b[31mimbalanced-learn 0.4.3 has requirement scikit-learn>=0.20, but you'll have scikit-learn 0.19.1 which is incompatible.\u001b[0m\n",
      "Installing collected packages: decorator, langdetect, nltk, numpy, scikit-learn, scipy, pytopicrank\n",
      "  Found existing installation: decorator 4.3.0\n",
      "    Uninstalling decorator-4.3.0:\n",
      "      Successfully uninstalled decorator-4.3.0\n",
      "  Found existing installation: nltk 3.3\n",
      "    Uninstalling nltk-3.3:\n",
      "      Successfully uninstalled nltk-3.3\n",
      "  Found existing installation: numpy 1.15.2\n",
      "    Uninstalling numpy-1.15.2:\n",
      "      Successfully uninstalled numpy-1.15.2\n",
      "  Found existing installation: scikit-learn 0.20.0\n",
      "    Uninstalling scikit-learn-0.20.0:\n",
      "      Successfully uninstalled scikit-learn-0.20.0\n",
      "  Found existing installation: scipy 1.1.0\n",
      "    Uninstalling scipy-1.1.0:\n",
      "      Successfully uninstalled scipy-1.1.0\n",
      "  Running setup.py develop for pytopicrank\n",
      "Successfully installed decorator-4.2.1 langdetect-1.0.7 nltk-3.2.5 numpy-1.14.1 pytopicrank scikit-learn-0.19.1 scipy-1.0.0\n",
      "\u001b[33mYou are using pip version 19.0.2, however version 19.0.3 is available.\n",
      "You should consider upgrading via the 'pip install --upgrade pip' command.\u001b[0m\n"
     ]
    }
   ],
   "source": [
    "! pip install -e git+https://github.com/smirnov-am/pytopicrank.git#egg=pytopicrank"
   ]
  },
  {
   "cell_type": "code",
   "execution_count": 49,
   "metadata": {},
   "outputs": [],
   "source": [
    "text_content = articles.loc[2, 'abstract'].replace('\\n', ' ')"
   ]
  },
  {
   "cell_type": "code",
   "execution_count": 50,
   "metadata": {},
   "outputs": [
    {
     "data": {
      "text/plain": [
       "\"Recently, Bruinier and Ono classified cusp forms $f(z) := \\\\sum_{n=0}^{\\\\infty} a_f(n)q ^n \\\\in S_{\\\\lambda+1/2}(\\\\Gamma_0(N),\\\\chi)\\\\cap \\\\mathbb{Z}[[q]]$ that does not satisfy a certain distribution property for modulo odd primes $p$. In this paper, using Rankin-Cohen Bracket, we extend this result to modular forms of half integral weight for primes $p \\\\geq 5$. As applications of our main theorem we derive distribution properties, for modulo primes $p\\\\geq5$, of traces of singular moduli and Hurwitz class number. We also study an analogue of Newman's conjecture for overpartitions.\""
      ]
     },
     "execution_count": 50,
     "metadata": {},
     "output_type": "execute_result"
    }
   ],
   "source": [
    "text_content"
   ]
  },
  {
   "cell_type": "code",
   "execution_count": 51,
   "metadata": {},
   "outputs": [],
   "source": [
    "# assuming default parameters\n",
    "simple_kwextractor = yake.KeywordExtractor(top = 20)\n",
    "keywords = simple_kwextractor.extract_keywords(text_content)"
   ]
  },
  {
   "cell_type": "code",
   "execution_count": 52,
   "metadata": {},
   "outputs": [
    {
     "name": "stdout",
     "output_type": "stream",
     "text": [
      "ono classified cusp\n",
      "bruinier and ono\n",
      "classified cusp forms\n",
      "ono classified\n",
      "modulo odd primes\n",
      "classified cusp\n",
      "odd primes\n",
      "gamma\n",
      "cusp forms\n",
      "property for modulo\n",
      "modulo odd\n",
      "bruinier\n",
      "distribution property\n",
      "ono\n",
      "primes\n",
      "modulo primes\n",
      "rankin-cohen bracket\n",
      "recently\n",
      "sum\n",
      "infty\n"
     ]
    }
   ],
   "source": [
    "for kw in keywords:\n",
    "    print(kw[0])"
   ]
  },
  {
   "cell_type": "code",
   "execution_count": 18,
   "metadata": {},
   "outputs": [
    {
     "name": "stdout",
     "output_type": "stream",
     "text": [
      "('hermitian matrices', 0.017874678539574012)\n",
      "('weight function', 0.03460851392758105)\n",
      "('plays an important', 0.051649762624356596)\n",
      "('important role', 0.051649762624356596)\n",
      "('unitary ensembles', 0.061856297531918625)\n",
      "('hermitian', 0.06440118327421285)\n",
      "('weight', 0.07522423820721258)\n",
      "('matrix kernels', 0.08712228665959056)\n",
      "('ensembles', 0.09204333402076119)\n",
      "('skew-orthogonal polynomials', 0.09632999467096956)\n",
      "('terms', 0.09831090038312673)\n",
      "('scalar kernel', 0.10452969355467087)\n",
      "('polynomials orthogonal', 0.10548162480938)\n",
      "('polynomials', 0.10672127680001763)\n",
      "('ensembles of hermitian', 0.10896281333929529)\n",
      "('role', 0.11887809495644869)\n",
      "('kernel', 0.12406074149967387)\n",
      "('play an analogous', 0.12726608929709793)\n",
      "('analogous role', 0.12726608929709793)\n",
      "('extra terms', 0.1323635867323521)\n"
     ]
    }
   ],
   "source": [
    "for kw in keywords:\n",
    "    print(kw)"
   ]
  },
  {
   "cell_type": "code",
   "execution_count": 26,
   "metadata": {},
   "outputs": [
    {
     "name": "stdout",
     "output_type": "stream",
     "text": [
      "('hermitian matrices', 0.019475059869307417)\n",
      "('weight function', 0.03460851392758105)\n",
      "('important role', 0.04821579237214767)\n",
      "('plays an important', 0.05511345007085334)\n",
      "('hermitian', 0.0674227706719652)\n"
     ]
    }
   ],
   "source": [
    "# specifying parameters\n",
    "custom_kwextractor = yake.KeywordExtractor(lan=\"en\", n=3, dedupLim=0.8, windowsSize=2, top=5)\n",
    "keywords = custom_kwextractor.extract_keywords(text_content)\n",
    "\n",
    "for kw in keywords:\n",
    "    print(kw)"
   ]
  },
  {
   "cell_type": "code",
   "execution_count": 28,
   "metadata": {},
   "outputs": [
    {
     "data": {
      "text/plain": [
       "['hermitian matrices',\n",
       " 'weight function',\n",
       " 'important role',\n",
       " 'plays an important',\n",
       " 'hermitian']"
      ]
     },
     "execution_count": 28,
     "metadata": {},
     "output_type": "execute_result"
    }
   ],
   "source": [
    "[x[0] for x in keywords]"
   ]
  },
  {
   "cell_type": "code",
   "execution_count": 55,
   "metadata": {},
   "outputs": [
    {
     "ename": "ModuleNotFoundError",
     "evalue": "No module named 'pytopicrank'",
     "output_type": "error",
     "traceback": [
      "\u001b[0;31m---------------------------------------------------------------------------\u001b[0m",
      "\u001b[0;31mModuleNotFoundError\u001b[0m                       Traceback (most recent call last)",
      "\u001b[0;32m<ipython-input-55-f092da366059>\u001b[0m in \u001b[0;36m<module>\u001b[0;34m()\u001b[0m\n\u001b[0;32m----> 1\u001b[0;31m \u001b[0;32mfrom\u001b[0m \u001b[0mpytopicrank\u001b[0m \u001b[0;32mimport\u001b[0m \u001b[0mTopicRank\u001b[0m\u001b[0;34m\u001b[0m\u001b[0;34m\u001b[0m\u001b[0m\n\u001b[0m",
      "\u001b[0;31mModuleNotFoundError\u001b[0m: No module named 'pytopicrank'"
     ]
    }
   ],
   "source": [
    "from pytopicrank import TopicRank"
   ]
  },
  {
   "cell_type": "code",
   "execution_count": 54,
   "metadata": {},
   "outputs": [
    {
     "ename": "ModuleNotFoundError",
     "evalue": "No module named 'pytopicrank'",
     "output_type": "error",
     "traceback": [
      "\u001b[0;31m---------------------------------------------------------------------------\u001b[0m",
      "\u001b[0;31mModuleNotFoundError\u001b[0m                       Traceback (most recent call last)",
      "\u001b[0;32m<ipython-input-54-d482f0771255>\u001b[0m in \u001b[0;36m<module>\u001b[0;34m()\u001b[0m\n\u001b[0;32m----> 1\u001b[0;31m \u001b[0;32mfrom\u001b[0m \u001b[0mpytopicrank\u001b[0m \u001b[0;32mimport\u001b[0m \u001b[0mTopicRank\u001b[0m\u001b[0;34m\u001b[0m\u001b[0;34m\u001b[0m\u001b[0m\n\u001b[0m\u001b[1;32m      2\u001b[0m \u001b[0;34m\u001b[0m\u001b[0m\n\u001b[1;32m      3\u001b[0m \u001b[0mtext\u001b[0m \u001b[0;34m=\u001b[0m \u001b[0mtext_content\u001b[0m\u001b[0;34m\u001b[0m\u001b[0;34m\u001b[0m\u001b[0m\n\u001b[1;32m      4\u001b[0m \u001b[0mtr\u001b[0m \u001b[0;34m=\u001b[0m \u001b[0mTopicRank\u001b[0m\u001b[0;34m(\u001b[0m\u001b[0mtext\u001b[0m\u001b[0;34m)\u001b[0m\u001b[0;34m\u001b[0m\u001b[0;34m\u001b[0m\u001b[0m\n\u001b[1;32m      5\u001b[0m \u001b[0mtr\u001b[0m\u001b[0;34m.\u001b[0m\u001b[0mget_top_n\u001b[0m\u001b[0;34m(\u001b[0m\u001b[0mn\u001b[0m\u001b[0;34m=\u001b[0m\u001b[0;36m2\u001b[0m\u001b[0;34m)\u001b[0m\u001b[0;34m\u001b[0m\u001b[0;34m\u001b[0m\u001b[0m\n",
      "\u001b[0;31mModuleNotFoundError\u001b[0m: No module named 'pytopicrank'"
     ]
    }
   ],
   "source": [
    "text = text_content\n",
    "tr = TopicRank(text)\n",
    "tr.get_top_n(n=2)"
   ]
  },
  {
   "cell_type": "code",
   "execution_count": null,
   "metadata": {},
   "outputs": [],
   "source": []
  }
 ],
 "metadata": {
  "kernelspec": {
   "display_name": "Python 3",
   "language": "python",
   "name": "python3"
  },
  "language_info": {
   "codemirror_mode": {
    "name": "ipython",
    "version": 3
   },
   "file_extension": ".py",
   "mimetype": "text/x-python",
   "name": "python",
   "nbconvert_exporter": "python",
   "pygments_lexer": "ipython3",
   "version": "3.6.8"
  }
 },
 "nbformat": 4,
 "nbformat_minor": 2
}
