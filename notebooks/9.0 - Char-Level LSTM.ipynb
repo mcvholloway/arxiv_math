{
 "cells": [
  {
   "cell_type": "code",
   "execution_count": 2,
   "metadata": {},
   "outputs": [],
   "source": [
    "from numpy import array\n",
    "from pickle import dump\n",
    "from keras.utils import to_categorical\n",
    "from keras.models import Sequential\n",
    "from keras.layers import Dense\n",
    "from keras.layers import LSTM"
   ]
  },
  {
   "cell_type": "code",
   "execution_count": 4,
   "metadata": {},
   "outputs": [],
   "source": [
    "import pandas as pd\n",
    "articles = pd.read_csv('../data/arxiv_math_2007.csv')"
   ]
  },
  {
   "cell_type": "code",
   "execution_count": 8,
   "metadata": {},
   "outputs": [],
   "source": [
    "raw_text = articles.loc[:100, 'abstract'].sum()\n",
    "lines = raw_text.split('\\n')"
   ]
  },
  {
   "cell_type": "code",
   "execution_count": 39,
   "metadata": {},
   "outputs": [
    {
     "name": "stdout",
     "output_type": "stream",
     "text": [
      "Total Sequences: 58878\n"
     ]
    }
   ],
   "source": [
    "# load text\n",
    "raw_text = articles.loc[:100, 'abstract'].sum()\n",
    "#print(raw_text)\n",
    "\n",
    "def save_doc(lines, filename):\n",
    "\tdata = '\\n'.join(lines)\n",
    "\tfile = open(filename, 'w')\n",
    "\tfile.write(data)\n",
    "\tfile.close()\n",
    "\n",
    "# clean\n",
    "tokens = raw_text.split()\n",
    "raw_text = ' '.join(tokens)\n",
    "\n",
    "# organize into sequences of characters\n",
    "length = 10\n",
    "sequences = list()\n",
    "for i in range(length, len(raw_text)):\n",
    "\t# select sequence of tokens\n",
    "\tseq = raw_text[i-length:i+1]\n",
    "\t# store\n",
    "\tsequences.append(seq)\n",
    "print('Total Sequences: %d' % len(sequences))\n",
    "\n",
    "# save sequences to file\n",
    "out_filename = 'char_sequences.txt'\n",
    "save_doc(sequences, out_filename)"
   ]
  },
  {
   "cell_type": "code",
   "execution_count": 40,
   "metadata": {},
   "outputs": [],
   "source": [
    "from numpy import array\n",
    "from pickle import dump\n",
    "from keras.utils import to_categorical\n",
    "from keras.models import Sequential\n",
    "from keras.layers import Dense\n",
    "from keras.layers import LSTM\n",
    "\n",
    "# load doc into memory\n",
    "def load_doc(filename):\n",
    "\t# open the file as read only\n",
    "\tfile = open(filename, 'r')\n",
    "\t# read all text\n",
    "\ttext = file.read()\n",
    "\t# close the file\n",
    "\tfile.close()\n",
    "\treturn text\n",
    "\n",
    "# load\n",
    "in_filename = 'char_sequences.txt'\n",
    "raw_text = load_doc(in_filename)\n",
    "lines = raw_text.split('\\n')"
   ]
  },
  {
   "cell_type": "code",
   "execution_count": 41,
   "metadata": {},
   "outputs": [
    {
     "name": "stdout",
     "output_type": "stream",
     "text": [
      "Vocabulary Size: 91\n"
     ]
    }
   ],
   "source": [
    "# integer encode sequences of characters\n",
    "chars = sorted(list(set(raw_text)))\n",
    "mapping = dict((c, i) for i, c in enumerate(chars))\n",
    "sequences = list()\n",
    "for line in lines:\n",
    "\t# integer encode line\n",
    "\tencoded_seq = [mapping[char] for char in line]\n",
    "\t# store\n",
    "\tsequences.append(encoded_seq)\n",
    "\n",
    "# vocabulary size\n",
    "vocab_size = len(mapping)\n",
    "print('Vocabulary Size: %d' % vocab_size)"
   ]
  },
  {
   "cell_type": "code",
   "execution_count": 42,
   "metadata": {},
   "outputs": [],
   "source": [
    "# separate into input and output\n",
    "sequences = array(sequences)\n",
    "X, y = sequences[:,:-1], sequences[:,-1]\n",
    "sequences = [to_categorical(x, num_classes=vocab_size) for x in X]\n",
    "X = array(sequences)\n",
    "y = to_categorical(y, num_classes=vocab_size)"
   ]
  },
  {
   "cell_type": "code",
   "execution_count": 43,
   "metadata": {},
   "outputs": [
    {
     "name": "stdout",
     "output_type": "stream",
     "text": [
      "_________________________________________________________________\n",
      "Layer (type)                 Output Shape              Param #   \n",
      "=================================================================\n",
      "lstm_1 (LSTM)                (None, 75)                50100     \n",
      "_________________________________________________________________\n",
      "dense_1 (Dense)              (None, 91)                6916      \n",
      "=================================================================\n",
      "Total params: 57,016\n",
      "Trainable params: 57,016\n",
      "Non-trainable params: 0\n",
      "_________________________________________________________________\n",
      "None\n"
     ]
    }
   ],
   "source": [
    "# define model\n",
    "model = Sequential()\n",
    "model.add(LSTM(75, input_shape=(X.shape[1], X.shape[2])))\n",
    "model.add(Dense(vocab_size, activation='softmax'))\n",
    "print(model.summary())\n",
    "# compile model\n",
    "model.compile(loss='categorical_crossentropy', optimizer='adam', metrics=['accuracy'])"
   ]
  },
  {
   "cell_type": "code",
   "execution_count": 70,
   "metadata": {},
   "outputs": [
    {
     "name": "stdout",
     "output_type": "stream",
     "text": [
      "Epoch 1/50\n",
      "58878/58878 [==============================] - 23s 398us/step - loss: 1.5391 - acc: 0.5652\n",
      "Epoch 2/50\n",
      "58878/58878 [==============================] - 23s 390us/step - loss: 1.4958 - acc: 0.5772\n",
      "Epoch 3/50\n",
      "58878/58878 [==============================] - 21s 353us/step - loss: 1.4575 - acc: 0.5876\n",
      "Epoch 4/50\n",
      "58878/58878 [==============================] - 21s 358us/step - loss: 1.4216 - acc: 0.5968\n",
      "Epoch 5/50\n",
      "58878/58878 [==============================] - 22s 378us/step - loss: 1.3903 - acc: 0.6060\n",
      "Epoch 6/50\n",
      "58878/58878 [==============================] - 22s 372us/step - loss: 1.3595 - acc: 0.6138\n",
      "Epoch 7/50\n",
      "58878/58878 [==============================] - 25s 429us/step - loss: 1.3315 - acc: 0.6213\n",
      "Epoch 8/50\n",
      "58878/58878 [==============================] - 22s 370us/step - loss: 1.3036 - acc: 0.6294\n",
      "Epoch 9/50\n",
      "58878/58878 [==============================] - 22s 371us/step - loss: 1.2785 - acc: 0.6370\n",
      "Epoch 10/50\n",
      "58878/58878 [==============================] - 22s 371us/step - loss: 1.2558 - acc: 0.6419\n",
      "Epoch 11/50\n",
      "58878/58878 [==============================] - 22s 368us/step - loss: 1.2337 - acc: 0.6491\n",
      "Epoch 12/50\n",
      "58878/58878 [==============================] - 21s 362us/step - loss: 1.2132 - acc: 0.6528\n",
      "Epoch 13/50\n",
      "58878/58878 [==============================] - 21s 360us/step - loss: 1.1928 - acc: 0.6578\n",
      "Epoch 14/50\n",
      "58878/58878 [==============================] - 22s 367us/step - loss: 1.1736 - acc: 0.6643\n",
      "Epoch 15/50\n",
      "58878/58878 [==============================] - 23s 390us/step - loss: 1.1565 - acc: 0.6680\n",
      "Epoch 16/50\n",
      "58878/58878 [==============================] - 22s 375us/step - loss: 1.1387 - acc: 0.6747\n",
      "Epoch 17/50\n",
      "58878/58878 [==============================] - 23s 387us/step - loss: 1.1216 - acc: 0.6781\n",
      "Epoch 18/50\n",
      "58878/58878 [==============================] - 23s 389us/step - loss: 1.1057 - acc: 0.6836\n",
      "Epoch 19/50\n",
      "58878/58878 [==============================] - 22s 371us/step - loss: 1.0900 - acc: 0.6877\n",
      "Epoch 20/50\n",
      "58878/58878 [==============================] - 22s 374us/step - loss: 1.0765 - acc: 0.6928\n",
      "Epoch 21/50\n",
      "58878/58878 [==============================] - 22s 373us/step - loss: 1.0618 - acc: 0.6951\n",
      "Epoch 22/50\n",
      "58878/58878 [==============================] - 22s 381us/step - loss: 1.0471 - acc: 0.7002\n",
      "Epoch 23/50\n",
      "58878/58878 [==============================] - 22s 377us/step - loss: 1.0344 - acc: 0.7017\n",
      "Epoch 24/50\n",
      "58878/58878 [==============================] - 23s 394us/step - loss: 1.0205 - acc: 0.7067\n",
      "Epoch 25/50\n",
      "58878/58878 [==============================] - 28s 478us/step - loss: 1.0081 - acc: 0.7100\n",
      "Epoch 26/50\n",
      "58878/58878 [==============================] - 24s 402us/step - loss: 0.9972 - acc: 0.7125\n",
      "Epoch 27/50\n",
      "58878/58878 [==============================] - 20s 342us/step - loss: 0.9848 - acc: 0.7153\n",
      "Epoch 28/50\n",
      "58878/58878 [==============================] - 22s 368us/step - loss: 0.9733 - acc: 0.7185\n",
      "Epoch 29/50\n",
      "58878/58878 [==============================] - 25s 422us/step - loss: 0.9611 - acc: 0.7229\n",
      "Epoch 30/50\n",
      "58878/58878 [==============================] - 19s 326us/step - loss: 0.9529 - acc: 0.7238\n",
      "Epoch 31/50\n",
      "58878/58878 [==============================] - 19s 318us/step - loss: 0.9422 - acc: 0.7276\n",
      "Epoch 32/50\n",
      "58878/58878 [==============================] - 19s 328us/step - loss: 0.9316 - acc: 0.7307\n",
      "Epoch 33/50\n",
      "58878/58878 [==============================] - 19s 327us/step - loss: 0.9232 - acc: 0.7334\n",
      "Epoch 34/50\n",
      "58878/58878 [==============================] - 21s 357us/step - loss: 0.9131 - acc: 0.7365\n",
      "Epoch 35/50\n",
      "58878/58878 [==============================] - 19s 315us/step - loss: 0.9042 - acc: 0.7386\n",
      "Epoch 36/50\n",
      "58878/58878 [==============================] - 18s 306us/step - loss: 0.8947 - acc: 0.7416\n",
      "Epoch 37/50\n",
      "58878/58878 [==============================] - 19s 326us/step - loss: 0.8875 - acc: 0.7422\n",
      "Epoch 38/50\n",
      "58878/58878 [==============================] - 18s 310us/step - loss: 0.8789 - acc: 0.7431\n",
      "Epoch 39/50\n",
      "58878/58878 [==============================] - 18s 309us/step - loss: 0.8706 - acc: 0.7475\n",
      "Epoch 40/50\n",
      "58878/58878 [==============================] - 18s 309us/step - loss: 0.8625 - acc: 0.7488\n",
      "Epoch 41/50\n",
      "58878/58878 [==============================] - 18s 303us/step - loss: 0.8541 - acc: 0.7518\n",
      "Epoch 42/50\n",
      "58878/58878 [==============================] - 23s 399us/step - loss: 0.8468 - acc: 0.7518\n",
      "Epoch 43/50\n",
      "58878/58878 [==============================] - 18s 311us/step - loss: 0.8395 - acc: 0.7550\n",
      "Epoch 44/50\n",
      "58878/58878 [==============================] - 22s 372us/step - loss: 0.8334 - acc: 0.7577\n",
      "Epoch 45/50\n",
      "58878/58878 [==============================] - 21s 357us/step - loss: 0.8257 - acc: 0.7604\n",
      "Epoch 46/50\n",
      "58878/58878 [==============================] - 22s 366us/step - loss: 0.8185 - acc: 0.7606\n",
      "Epoch 47/50\n",
      "58878/58878 [==============================] - 23s 394us/step - loss: 0.8115 - acc: 0.7631\n",
      "Epoch 48/50\n",
      "58878/58878 [==============================] - 18s 305us/step - loss: 0.8054 - acc: 0.7639\n",
      "Epoch 49/50\n",
      "58878/58878 [==============================] - 19s 324us/step - loss: 0.7991 - acc: 0.7660\n",
      "Epoch 50/50\n",
      "58878/58878 [==============================] - 22s 370us/step - loss: 0.7929 - acc: 0.7672\n"
     ]
    }
   ],
   "source": [
    "# fit model\n",
    "model.fit(X, y, epochs=50)\n",
    "\n",
    "# save the model to file\n",
    "model.save('model.h5')\n",
    "# save the mapping\n",
    "dump(mapping, open('mapping.pkl', 'wb'))"
   ]
  },
  {
   "cell_type": "code",
   "execution_count": 71,
   "metadata": {},
   "outputs": [],
   "source": [
    "from pickle import load\n",
    "from keras.models import load_model\n",
    "from keras.utils import to_categorical\n",
    "from keras.preprocessing.sequence import pad_sequences\n",
    "\n",
    "# generate a sequence of characters with a language model\n",
    "def generate_seq(model, mapping, seq_length, seed_text, n_chars):\n",
    "    in_text = seed_text\n",
    "    # generate a fixed number of characters\n",
    "    for _ in range(n_chars):\n",
    "        # encode the characters as integers\n",
    "        encoded = [mapping[char] for char in in_text]\n",
    "        # truncate sequences to a fixed length\n",
    "        encoded = pad_sequences([encoded], maxlen=seq_length, truncating='pre')\n",
    "        # one hot encode\n",
    "        encoded = to_categorical(encoded, num_classes=len(mapping))\n",
    "        #return encoded\n",
    "        #encoded = encoded.reshape(1, encoded.shape[0], encoded.shape[1])\n",
    "        # predict character\n",
    "        yhat = model.predict_classes(encoded, verbose=0)\n",
    "        # reverse map integer to character\n",
    "        out_char = ''\n",
    "        for char, index in mapping.items():\n",
    "            if index == yhat:\n",
    "                out_char = char\n",
    "                break\n",
    "        # append to input\n",
    "        in_text += char\n",
    "    return in_text\n",
    "\n",
    "# load the model\n",
    "model = load_model('model.h5')\n",
    "# load the mapping\n",
    "mapping = load(open('mapping.pkl', 'rb'))"
   ]
  },
  {
   "cell_type": "code",
   "execution_count": 79,
   "metadata": {},
   "outputs": [
    {
     "data": {
      "text/plain": [
       "'exponential the notion of the s'"
      ]
     },
     "execution_count": 79,
     "metadata": {},
     "output_type": "execute_result"
    }
   ],
   "source": [
    "# test start of rhyme\n",
    "generate_seq(model, mapping, 10, 'exponential', 20)\n"
   ]
  },
  {
   "cell_type": "code",
   "execution_count": null,
   "metadata": {},
   "outputs": [],
   "source": []
  }
 ],
 "metadata": {
  "kernelspec": {
   "display_name": "Python 3",
   "language": "python",
   "name": "python3"
  },
  "language_info": {
   "codemirror_mode": {
    "name": "ipython",
    "version": 3
   },
   "file_extension": ".py",
   "mimetype": "text/x-python",
   "name": "python",
   "nbconvert_exporter": "python",
   "pygments_lexer": "ipython3",
   "version": "3.6.8"
  }
 },
 "nbformat": 4,
 "nbformat_minor": 2
}
